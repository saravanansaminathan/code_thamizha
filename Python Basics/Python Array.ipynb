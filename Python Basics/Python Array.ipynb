{
 "cells": [
  {
   "cell_type": "code",
   "execution_count": 1,
   "metadata": {},
   "outputs": [
    {
     "name": "stdout",
     "output_type": "stream",
     "text": [
      "code\n",
      "thamizha\n",
      "welcome\n",
      "python\n",
      "learn\n"
     ]
    }
   ],
   "source": [
    "arr = [\"code\", \"thamizha\", \"welcome\", \"python\", \"learn\"]\n",
    "for i in arr:\n",
    "    print(i)"
   ]
  },
  {
   "cell_type": "code",
   "execution_count": 2,
   "metadata": {},
   "outputs": [
    {
     "data": {
      "text/plain": [
       "(list, numpy.ndarray)"
      ]
     },
     "execution_count": 2,
     "metadata": {},
     "output_type": "execute_result"
    }
   ],
   "source": [
    "import numpy as np\n",
    "type(arr), type(np.array(arr))"
   ]
  },
  {
   "cell_type": "code",
   "execution_count": 5,
   "metadata": {},
   "outputs": [
    {
     "name": "stdout",
     "output_type": "stream",
     "text": [
      "index:  1\n",
      "insert operation:  ['thamizha', 'welcome', 'welcome', 'python', 'learn', 'friends', '!']\n",
      "count operation:  2\n"
     ]
    }
   ],
   "source": [
    "#Index\n",
    "print(\"index: \",arr.index('welcome'))\n",
    "\n",
    "# Insert\n",
    "arr.insert(1,'welcome')\n",
    "print(\"insert operation: \",arr)\n",
    "\n",
    "#count\n",
    "arr.count(\"welcome\")\n",
    "print(\"count operation: \",arr.count(\"welcome\"))\n",
    "\n"
   ]
  },
  {
   "cell_type": "code",
   "execution_count": 6,
   "metadata": {},
   "outputs": [
    {
     "name": "stdout",
     "output_type": "stream",
     "text": [
      "pop operation:  ['thamizha', 'welcome', 'python', 'learn', 'friends', '!']\n"
     ]
    }
   ],
   "source": [
    "# pop\n",
    "arr.pop(1)\n",
    "print(\"pop operation: \",arr)\n"
   ]
  },
  {
   "cell_type": "code",
   "execution_count": 7,
   "metadata": {},
   "outputs": [
    {
     "name": "stdout",
     "output_type": "stream",
     "text": [
      "pop operation:  ['thamizha', 'welcome', 'python', 'friends', '!']\n",
      "extend operation:  ['thamizha', 'welcome', 'python', 'friends', '!', 'friends', '!']\n"
     ]
    }
   ],
   "source": [
    "\n",
    "#remove\n",
    "arr.remove('learn')\n",
    "print(\"pop operation: \",arr)\n",
    "\n",
    "# extend\n",
    "arr.extend([\"friends\",\"!\"])\n",
    "print(\"extend operation: \",arr)\n"
   ]
  },
  {
   "cell_type": "code",
   "execution_count": 8,
   "metadata": {},
   "outputs": [
    {
     "data": {
      "text/plain": [
       "['thamizha', 'welcome', 'python', 'friends', '!', 'friends', '!']"
      ]
     },
     "execution_count": 8,
     "metadata": {},
     "output_type": "execute_result"
    }
   ],
   "source": [
    "arr"
   ]
  },
  {
   "cell_type": "code",
   "execution_count": 9,
   "metadata": {},
   "outputs": [
    {
     "data": {
      "text/plain": [
       "['thamizha',\n",
       " 'welcome',\n",
       " 'python',\n",
       " 'friends',\n",
       " '!',\n",
       " 'friends',\n",
       " '!',\n",
       " 'thamizha',\n",
       " 'welcome',\n",
       " 'python',\n",
       " 'friends',\n",
       " '!',\n",
       " 'friends',\n",
       " '!']"
      ]
     },
     "execution_count": 9,
     "metadata": {},
     "output_type": "execute_result"
    }
   ],
   "source": [
    "arr + arr"
   ]
  },
  {
   "cell_type": "code",
   "execution_count": 11,
   "metadata": {},
   "outputs": [],
   "source": [
    "arr.append(\"hii\")"
   ]
  },
  {
   "cell_type": "code",
   "execution_count": 12,
   "metadata": {},
   "outputs": [
    {
     "data": {
      "text/plain": [
       "['thamizha', 'welcome', 'python', 'friends', '!', 'friends', '!', 'hii']"
      ]
     },
     "execution_count": 12,
     "metadata": {},
     "output_type": "execute_result"
    }
   ],
   "source": [
    "arr"
   ]
  },
  {
   "cell_type": "code",
   "execution_count": 13,
   "metadata": {},
   "outputs": [
    {
     "data": {
      "text/plain": [
       "['thamizha', 'welcome', 'python', 'friends', '!', 'friends', '!', 'hii']"
      ]
     },
     "execution_count": 13,
     "metadata": {},
     "output_type": "execute_result"
    }
   ],
   "source": [
    "# Use of copy function\n",
    "b = arr.copy()\n",
    "b"
   ]
  },
  {
   "cell_type": "code",
   "execution_count": 14,
   "metadata": {},
   "outputs": [
    {
     "name": "stdout",
     "output_type": "stream",
     "text": [
      "['thamizha', 'welcome', 'python', 'friends', '!', 'friends', '!', 'hii']\n"
     ]
    },
    {
     "data": {
      "text/plain": [
       "['thamizha', 'welcome', 'python', 'friends', '!', 'friends', '!', 'bye']"
      ]
     },
     "execution_count": 14,
     "metadata": {},
     "output_type": "execute_result"
    }
   ],
   "source": [
    "c = arr\n",
    "print(c)\n",
    "arr[-1]='bye'\n",
    "c"
   ]
  },
  {
   "cell_type": "code",
   "execution_count": 16,
   "metadata": {},
   "outputs": [
    {
     "name": "stdout",
     "output_type": "stream",
     "text": [
      "iterate over array:  ['thamizha', 'python', '!', '!']\n",
      "Access last elemets:  ['!', 'friends', '!', 'bye']\n",
      "Access last elemets:  ['friends', '!', 'friends', '!', 'bye']\n",
      "Access last elemets:  ['thamizha', 'welcome', 'python', 'friends']\n"
     ]
    }
   ],
   "source": [
    "\"Array access\"\n",
    "\n",
    "print(\"iterate over array: \",arr[::2])\n",
    "print(\"Access last elemets: \",arr[-4:])\n",
    "print(\"Access last elemets: \",arr[3:])\n",
    "print(\"Access last elemets: \",arr[:4])"
   ]
  },
  {
   "cell_type": "code",
   "execution_count": null,
   "metadata": {},
   "outputs": [],
   "source": []
  },
  {
   "cell_type": "code",
   "execution_count": null,
   "metadata": {},
   "outputs": [],
   "source": []
  }
 ],
 "metadata": {
  "kernelspec": {
   "display_name": "Python 3",
   "language": "python",
   "name": "python3"
  },
  "language_info": {
   "codemirror_mode": {
    "name": "ipython",
    "version": 3
   },
   "file_extension": ".py",
   "mimetype": "text/x-python",
   "name": "python",
   "nbconvert_exporter": "python",
   "pygments_lexer": "ipython3",
   "version": "3.6.6"
  }
 },
 "nbformat": 4,
 "nbformat_minor": 4
}
