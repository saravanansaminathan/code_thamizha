{
 "cells": [
  {
   "cell_type": "markdown",
   "metadata": {},
   "source": [
    "Local Scope"
   ]
  },
  {
   "cell_type": "code",
   "execution_count": 4,
   "metadata": {},
   "outputs": [
    {
     "name": "stdout",
     "output_type": "stream",
     "text": [
      "Code Vaathi\n"
     ]
    }
   ],
   "source": [
    "def myfunc():\n",
    "    x = 'Code Vaathi'\n",
    "    print(x)\n",
    "\n",
    "myfunc()"
   ]
  },
  {
   "cell_type": "code",
   "execution_count": 2,
   "metadata": {},
   "outputs": [
    {
     "name": "stdout",
     "output_type": "stream",
     "text": [
      "Code Vaathi\n"
     ]
    }
   ],
   "source": [
    "def myfunc():\n",
    "    x = 'Code Vaathi'\n",
    "    def myinnerfunc():\n",
    "        print(x)\n",
    "    myinnerfunc()\n",
    "\n",
    "myfunc()"
   ]
  },
  {
   "cell_type": "code",
   "execution_count": null,
   "metadata": {},
   "outputs": [],
   "source": []
  },
  {
   "cell_type": "markdown",
   "metadata": {},
   "source": [
    "Global Scope"
   ]
  },
  {
   "cell_type": "code",
   "execution_count": 5,
   "metadata": {},
   "outputs": [
    {
     "name": "stdout",
     "output_type": "stream",
     "text": [
      "Code Vaathi\n",
      "Code Vaathi\n"
     ]
    }
   ],
   "source": [
    "\n",
    "x = 'Code Vaathi'\n",
    "\n",
    "def myfunc():\n",
    "    print(x)\n",
    "\n",
    "myfunc()\n",
    "\n",
    "print(x)"
   ]
  },
  {
   "cell_type": "code",
   "execution_count": null,
   "metadata": {},
   "outputs": [],
   "source": []
  },
  {
   "cell_type": "markdown",
   "metadata": {},
   "source": [
    "Enclosing Scope"
   ]
  },
  {
   "cell_type": "code",
   "execution_count": 6,
   "metadata": {},
   "outputs": [
    {
     "name": "stdout",
     "output_type": "stream",
     "text": [
      "first_num from outer:  1\n",
      "second_num from inner:  2\n",
      "name 'second_num' is not defined\n",
      "Unable to access inter variable in outer scope\n"
     ]
    }
   ],
   "source": [
    "def outer():\n",
    "    first_num = 1\n",
    "    def inner():\n",
    "        second_num = 2\n",
    "        # Print statement 1 - Scope: Inner\n",
    "        print(\"first_num from outer: \", first_num)\n",
    "        # Print statement 2 - Scope: Inner\n",
    "        print(\"second_num from inner: \", second_num)\n",
    "    inner()\n",
    "    # Print statement 3 - Scope: Outer\n",
    "    try:\n",
    "        print(\"second_num from inner: \", second_num)\n",
    "    except Exception as e:\n",
    "        print(e)\n",
    "        print(\"Unable to access inter variable in outer scope\")\n",
    "\n",
    "outer()"
   ]
  },
  {
   "cell_type": "code",
   "execution_count": null,
   "metadata": {},
   "outputs": [],
   "source": []
  },
  {
   "cell_type": "markdown",
   "metadata": {},
   "source": [
    "Override local variable by global variable"
   ]
  },
  {
   "cell_type": "code",
   "execution_count": 7,
   "metadata": {},
   "outputs": [
    {
     "name": "stdout",
     "output_type": "stream",
     "text": [
      "Learn Python\n",
      "Code Vaathi\n"
     ]
    }
   ],
   "source": [
    "x = 'Code Vaathi'\n",
    "\n",
    "def myfunc():\n",
    "    x = 'Learn Python'\n",
    "    print(x)\n",
    "\n",
    "myfunc()\n",
    "\n",
    "print(x)"
   ]
  },
  {
   "cell_type": "code",
   "execution_count": null,
   "metadata": {},
   "outputs": [],
   "source": []
  },
  {
   "cell_type": "markdown",
   "metadata": {},
   "source": [
    "Usage of Global variable"
   ]
  },
  {
   "cell_type": "code",
   "execution_count": 8,
   "metadata": {},
   "outputs": [
    {
     "name": "stdout",
     "output_type": "stream",
     "text": [
      "hi\n",
      "Code Vaathi\n"
     ]
    }
   ],
   "source": [
    "x ='hi'\n",
    "print(x)\n",
    "def myfunc():\n",
    "    global x\n",
    "    x = 'Code Vaathi'\n",
    "\n",
    "myfunc()\n",
    "\n",
    "print(x)"
   ]
  },
  {
   "cell_type": "code",
   "execution_count": null,
   "metadata": {},
   "outputs": [],
   "source": []
  },
  {
   "cell_type": "markdown",
   "metadata": {},
   "source": [
    "Override global variable using local scope "
   ]
  },
  {
   "cell_type": "code",
   "execution_count": 9,
   "metadata": {},
   "outputs": [
    {
     "name": "stdout",
     "output_type": "stream",
     "text": [
      "Learn Python\n"
     ]
    }
   ],
   "source": [
    "x = 'Code Vaathi'\n",
    "\n",
    "def myfunc():\n",
    "    global x\n",
    "    x = 'Learn Python'\n",
    "\n",
    "myfunc()\n",
    "\n",
    "print(x)"
   ]
  },
  {
   "cell_type": "code",
   "execution_count": null,
   "metadata": {},
   "outputs": [],
   "source": []
  },
  {
   "cell_type": "markdown",
   "metadata": {},
   "source": [
    "Access global variable in local scope"
   ]
  },
  {
   "cell_type": "code",
   "execution_count": 10,
   "metadata": {},
   "outputs": [
    {
     "ename": "UnboundLocalError",
     "evalue": "local variable 's' referenced before assignment",
     "output_type": "error",
     "traceback": [
      "\u001b[0;31m---------------------------------------------------------------------------\u001b[0m",
      "\u001b[0;31mUnboundLocalError\u001b[0m                         Traceback (most recent call last)",
      "\u001b[0;32m<ipython-input-10-b356ddc47acf>\u001b[0m in \u001b[0;36m<module>\u001b[0;34m\u001b[0m\n\u001b[1;32m     13\u001b[0m \u001b[0;31m# Global Scope\u001b[0m\u001b[0;34m\u001b[0m\u001b[0;34m\u001b[0m\u001b[0m\n\u001b[1;32m     14\u001b[0m \u001b[0ms\u001b[0m \u001b[0;34m=\u001b[0m \u001b[0;34m\"Code vaathi is great !\"\u001b[0m\u001b[0;34m\u001b[0m\u001b[0m\n\u001b[0;32m---> 15\u001b[0;31m \u001b[0mf\u001b[0m\u001b[0;34m(\u001b[0m\u001b[0;34m)\u001b[0m\u001b[0;34m\u001b[0m\u001b[0m\n\u001b[0m\u001b[1;32m     16\u001b[0m \u001b[0mprint\u001b[0m\u001b[0;34m(\u001b[0m\u001b[0ms\u001b[0m\u001b[0;34m)\u001b[0m\u001b[0;34m\u001b[0m\u001b[0m\n",
      "\u001b[0;32m<ipython-input-10-b356ddc47acf>\u001b[0m in \u001b[0;36mf\u001b[0;34m()\u001b[0m\n\u001b[1;32m      7\u001b[0m \u001b[0;32mdef\u001b[0m \u001b[0mf\u001b[0m\u001b[0;34m(\u001b[0m\u001b[0;34m)\u001b[0m\u001b[0;34m:\u001b[0m\u001b[0;34m\u001b[0m\u001b[0m\n\u001b[1;32m      8\u001b[0m \u001b[0;31m#     global(s)\u001b[0m\u001b[0;34m\u001b[0m\u001b[0;34m\u001b[0m\u001b[0m\n\u001b[0;32m----> 9\u001b[0;31m     \u001b[0mprint\u001b[0m\u001b[0;34m(\u001b[0m\u001b[0ms\u001b[0m\u001b[0;34m)\u001b[0m\u001b[0;34m\u001b[0m\u001b[0m\n\u001b[0m\u001b[1;32m     10\u001b[0m     \u001b[0ms\u001b[0m \u001b[0;34m=\u001b[0m \u001b[0;34m\"Local variable\"\u001b[0m\u001b[0;34m\u001b[0m\u001b[0m\n\u001b[1;32m     11\u001b[0m     \u001b[0mprint\u001b[0m\u001b[0;34m(\u001b[0m\u001b[0ms\u001b[0m\u001b[0;34m)\u001b[0m\u001b[0;34m\u001b[0m\u001b[0m\n",
      "\u001b[0;31mUnboundLocalError\u001b[0m: local variable 's' referenced before assignment"
     ]
    }
   ],
   "source": [
    "'''\n",
    "when you make an assignment to a variable in a scope,\n",
    "that variable becomes local to that scope and shadows any similarly named variable in the outer scope\n",
    "if it hasn’t been declared as a global variable.\n",
    "'''\n",
    "\n",
    "def f(): \n",
    "#     global(s) \n",
    "    print(s) \n",
    "    s = \"Local variable\"\n",
    "    print(s) \n",
    "\n",
    "# Global Scope \n",
    "s = \"Code vaathi is great !\"\n",
    "f() \n",
    "print(s) \n"
   ]
  },
  {
   "cell_type": "code",
   "execution_count": 11,
   "metadata": {},
   "outputs": [
    {
     "name": "stdout",
     "output_type": "stream",
     "text": [
      "Code vaathi is great !\n",
      "Local variable\n",
      "\n",
      "Local variable replaced global variable\n",
      "Local variable\n"
     ]
    }
   ],
   "source": [
    "'''\n",
    "We only need to use the global keyword in a function if we want to do assignments / change them\n",
    "'''\n",
    "\n",
    "s = \"Code vaathi is great !\"\n",
    "\n",
    "def f(): \n",
    "    global s\n",
    "    print(s) \n",
    "    s = \"Local variable\"\n",
    "    print(s) \n",
    "    \n",
    "f() \n",
    "\n",
    "print('\\nLocal variable replaced global variable')\n",
    "print(s) \n"
   ]
  },
  {
   "cell_type": "code",
   "execution_count": null,
   "metadata": {},
   "outputs": [],
   "source": []
  },
  {
   "cell_type": "markdown",
   "metadata": {},
   "source": [
    "Non Local keyword"
   ]
  },
  {
   "cell_type": "code",
   "execution_count": 13,
   "metadata": {},
   "outputs": [
    {
     "name": "stdout",
     "output_type": "stream",
     "text": [
      "10\n",
      "11\n"
     ]
    },
    {
     "ename": "NameError",
     "evalue": "name 'y' is not defined",
     "output_type": "error",
     "traceback": [
      "\u001b[0;31m---------------------------------------------------------------------------\u001b[0m",
      "\u001b[0;31mNameError\u001b[0m                                 Traceback (most recent call last)",
      "\u001b[0;32m<ipython-input-13-6c9e37eaeb08>\u001b[0m in \u001b[0;36m<module>\u001b[0;34m\u001b[0m\n\u001b[1;32m      8\u001b[0m     \u001b[0mprint\u001b[0m\u001b[0;34m(\u001b[0m\u001b[0my\u001b[0m\u001b[0;34m)\u001b[0m\u001b[0;34m\u001b[0m\u001b[0m\n\u001b[1;32m      9\u001b[0m \u001b[0mfoo\u001b[0m\u001b[0;34m(\u001b[0m\u001b[0;34m)\u001b[0m\u001b[0;34m\u001b[0m\u001b[0m\n\u001b[0;32m---> 10\u001b[0;31m \u001b[0my\u001b[0m\u001b[0;34m\u001b[0m\u001b[0m\n\u001b[0m",
      "\u001b[0;31mNameError\u001b[0m: name 'y' is not defined"
     ]
    }
   ],
   "source": [
    "def foo():\n",
    "    y = 10\n",
    "    def bar():\n",
    "        nonlocal y\n",
    "        print(y)\n",
    "        y += 1\n",
    "    bar()\n",
    "    print(y)\n",
    "foo()\n",
    "y"
   ]
  },
  {
   "cell_type": "code",
   "execution_count": 14,
   "metadata": {},
   "outputs": [
    {
     "name": "stdout",
     "output_type": "stream",
     "text": [
      "Learn Python\n",
      "10\n"
     ]
    }
   ],
   "source": [
    "def foo():\n",
    "    x = 10\n",
    "    def bar():\n",
    "        global x\n",
    "        print(x)\n",
    "        x += 'Thamizha'\n",
    "    bar()\n",
    "    print(x)\n",
    "foo()"
   ]
  },
  {
   "cell_type": "code",
   "execution_count": null,
   "metadata": {},
   "outputs": [],
   "source": []
  },
  {
   "cell_type": "markdown",
   "metadata": {},
   "source": []
  },
  {
   "cell_type": "code",
   "execution_count": 16,
   "metadata": {},
   "outputs": [
    {
     "name": "stdout",
     "output_type": "stream",
     "text": [
      "<function linear.<locals>.result at 0x1057c69d8>\n",
      "4\n"
     ]
    }
   ],
   "source": [
    "#Nested Scope in python\n",
    "def linear(a, b):\n",
    "    def result(x):\n",
    "        return a * x + b\n",
    "    return result\n",
    "print(linear(1,2))\n",
    "print(linear(1,2)(2))"
   ]
  },
  {
   "cell_type": "markdown",
   "metadata": {},
   "source": [
    "Lambda Scope in loop"
   ]
  },
  {
   "cell_type": "code",
   "execution_count": 19,
   "metadata": {},
   "outputs": [
    {
     "name": "stdout",
     "output_type": "stream",
     "text": [
      "0\n",
      "1\n",
      "2\n",
      "3\n",
      "4\n",
      "4\n",
      "[<function <lambda> at 0x1057c6950>, <function <lambda> at 0x1057c6d08>, <function <lambda> at 0x1057de0d0>, <function <lambda> at 0x1057de268>, <function <lambda> at 0x1057de400>] \n",
      "\n",
      "16\n",
      "16\n",
      "16\n",
      "16\n",
      "16\n"
     ]
    }
   ],
   "source": [
    "'''\n",
    "This happens because x is not local to the lambdas, but is defined in the outer scope,\n",
    "and it is accessed when the lambda is called — not when it is defined.\n",
    "At the end of the loop, the value of x is 4, so all the functions now return 4**2,\n",
    "'''\n",
    "squares = []\n",
    "for x in range(5):\n",
    "    print(x)\n",
    "    squares.append(lambda: x**2)\n",
    "print(x)\n",
    "print(squares,'\\n')\n",
    "for i in squares:\n",
    "    print(i())"
   ]
  },
  {
   "cell_type": "code",
   "execution_count": 20,
   "metadata": {},
   "outputs": [
    {
     "name": "stdout",
     "output_type": "stream",
     "text": [
      "[<function <lambda> at 0x1057c6950>, <function <lambda> at 0x1057c6d08>, <function <lambda> at 0x1057c6c80>, <function <lambda> at 0x1057c67b8>, <function <lambda> at 0x1057c69d8>] \n",
      "\n",
      "0\n",
      "1\n",
      "4\n",
      "9\n",
      "16\n"
     ]
    }
   ],
   "source": [
    "'''\n",
    "In order to avoid this, you need to save the values in variables local to the lambdas,\n",
    "so that they don’t rely on the value of the global x:\n",
    "n=x creates a new variable n local to the lambda and computed when the lambda is defined \n",
    "so that it has the same value that x had at that point in the loop. \n",
    "'''\n",
    "squares = []\n",
    "for x in range(5):\n",
    "    squares.append(lambda n=x: n**2)    \n",
    "print(squares,'\\n')\n",
    "for i in squares:\n",
    "    print(i())"
   ]
  },
  {
   "cell_type": "code",
   "execution_count": null,
   "metadata": {},
   "outputs": [],
   "source": []
  },
  {
   "cell_type": "code",
   "execution_count": null,
   "metadata": {},
   "outputs": [],
   "source": []
  }
 ],
 "metadata": {
  "kernelspec": {
   "display_name": "Python 3",
   "language": "python",
   "name": "python3"
  },
  "language_info": {
   "codemirror_mode": {
    "name": "ipython",
    "version": 3
   },
   "file_extension": ".py",
   "mimetype": "text/x-python",
   "name": "python",
   "nbconvert_exporter": "python",
   "pygments_lexer": "ipython3",
   "version": "3.6.6"
  }
 },
 "nbformat": 4,
 "nbformat_minor": 4
}
