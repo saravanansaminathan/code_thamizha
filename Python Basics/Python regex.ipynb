{
 "cells": [
  {
   "cell_type": "markdown",
   "metadata": {},
   "source": [
    "Regex"
   ]
  },
  {
   "cell_type": "code",
   "execution_count": 14,
   "metadata": {},
   "outputs": [
    {
     "data": {
      "text/plain": [
       "'\\n\\nMeta Character:\\n[]\\tA set of characters\\t\"[a-m]\"\\t\\n\\\\\\tSignals a special sequence (can also be used to escape special characters)\\t\"\\\\d\"\\t\\n.\\tAny character (except newline character)\\t\"he..o\"\\t\\n^\\tStarts with\\t\"^hello\"\\t\\n$\\tEnds with\\t\"world$\"\\t\\n*\\tZero or more occurrences\\t\"aix*\"\\t\\n+\\tOne or more occurrences\\t\"aix+\"\\t\\n{}\\tExactly the specified number of occurrences\\t\"al{2}\"\\t\\n|\\tEither or\\t\"falls|stays\"\\t\\n()\\tCapture and group\\n\\n'"
      ]
     },
     "execution_count": 14,
     "metadata": {},
     "output_type": "execute_result"
    }
   ],
   "source": [
    "'''\n",
    "\n",
    "Meta Character:\n",
    "[]\tA set of characters\t\"[a-m]\"\t\n",
    ".\tAny character (except newline character)\t\"he..o\"\t\n",
    "^\tStarts with\t\"^hello\"\t\n",
    "$\tEnds with\t\"world$\"\t\n",
    "*\tZero or more occurrences\t\"aix*\"\t\n",
    "+\tOne or more occurrences\t\"aix+\"\t\n",
    "{}\tExactly the specified number of occurrences\t\"al{2}\"\t\n",
    "|\tEither or\t\"falls|stays\"\t\n",
    "()\tCapture and group\n",
    "\n",
    "'''"
   ]
  },
  {
   "cell_type": "code",
   "execution_count": 34,
   "metadata": {},
   "outputs": [
    {
     "data": {
      "text/plain": [
       "<_sre.SRE_Match object; span=(0, 17), match='The rain in Spain'>"
      ]
     },
     "execution_count": 34,
     "metadata": {},
     "output_type": "execute_result"
    }
   ],
   "source": [
    "import re\n",
    "\n",
    "txt = \"The rain in Spain\"\n",
    "x = re.search(\"^The.*Spain$\", txt)\n",
    "x"
   ]
  },
  {
   "cell_type": "code",
   "execution_count": null,
   "metadata": {},
   "outputs": [],
   "source": [
    "'''\n",
    "A set is a set of characters inside a pair of square brackets [] with a special meaning:\n",
    "[arn]\tReturns a match where one of the specified characters (a, r, or n) are present\t\n",
    "[a-n]\tReturns a match for any lower case character, alphabetically between a and n\t\n",
    "[^arn]\tReturns a match for any character EXCEPT a, r, and n\t\n",
    "[0123]\tReturns a match where any of the specified digits (0, 1, 2, or 3) are present\t\n",
    "[0-9]\tReturns a match for any digit between 0 and 9\t\n",
    "[0-5][0-9]\tReturns a match for any two-digit numbers from 00 and 59\t\n",
    "[a-zA-Z]\tReturns a match for any character alphabetically between a and z, lower case OR upper case\t\n",
    "[+]\tIn sets, +, *, ., |, (), $,{} has no special meaning, so [+] means: return a match for any + character in the string\n",
    "'''"
   ]
  },
  {
   "cell_type": "code",
   "execution_count": null,
   "metadata": {},
   "outputs": [],
   "source": [
    "'''\n",
    "A special sequence is a \\ followed by one of the characters in the list below, and has a special meaning:\n",
    "\n",
    "Special Sequence\n",
    "\\A\tReturns a match if the specified characters are at the beginning of the string\t\"\\AThe\"\t\n",
    "\\b\tReturns a match where the specified characters are at the beginning or at the end of a word\n",
    "(the \"r\" in the beginning is making sure that the string is being treated as a \"raw string\")\tr\"\\bain\"\n",
    "r\"ain\\b\"\t\n",
    "\\B\tReturns a match where the specified characters are present, but NOT at the beginning (or at the end) of a word\n",
    "(the \"r\" in the beginning is making sure that the string is being treated as a \"raw string\")\tr\"\\Bain\"\n",
    "r\"ain\\B\"\t\n",
    "\\d\tReturns a match where the string contains digits (numbers from 0-9)\t\"\\d\"\t\n",
    "\\D\tReturns a match where the string DOES NOT contain digits\t\"\\D\"\t\n",
    "\\s\tReturns a match where the string contains a white space character\t\"\\s\"\t\n",
    "\\S\tReturns a match where the string DOES NOT contain a white space character\t\"\\S\"\t\n",
    "\\w\tReturns a match where the string contains any word characters (characters from a to Z, digits from 0-9, and the underscore _ character)\t\"\\w\"\t\n",
    "\\W\tReturns a match where the string DOES NOT contain any word characters\t\"\\W\"\t\n",
    "\\Z\tReturns a match if the specified characters are at the end of the string\n",
    "'''"
   ]
  },
  {
   "cell_type": "code",
   "execution_count": null,
   "metadata": {},
   "outputs": [],
   "source": []
  },
  {
   "cell_type": "code",
   "execution_count": null,
   "metadata": {},
   "outputs": [],
   "source": []
  },
  {
   "cell_type": "code",
   "execution_count": null,
   "metadata": {},
   "outputs": [],
   "source": [
    "'''\n",
    "findall\tReturns a list containing all matches\n",
    "search\tReturns a Match object if there is a match anywhere in the string\n",
    "split\tReturns a list where the string has been split at each match\n",
    "sub\tReplaces one or many matches with a string\n",
    "\n",
    "'''"
   ]
  },
  {
   "cell_type": "code",
   "execution_count": 35,
   "metadata": {},
   "outputs": [
    {
     "name": "stdout",
     "output_type": "stream",
     "text": [
      "['ai', 'ai']\n",
      "[]\n"
     ]
    }
   ],
   "source": [
    "# findall() function returns a list containing all matches.\n",
    "\n",
    "import re\n",
    "\n",
    "txt = \"The rain in Spain\"\n",
    "x = re.findall(\"ai\", txt)\n",
    "print(x)\n",
    "\n",
    "import re\n",
    "\n",
    "txt = \"The rain in Spain\"\n",
    "x = re.findall(\"Portugal\", txt)\n",
    "print(x)"
   ]
  },
  {
   "cell_type": "code",
   "execution_count": 37,
   "metadata": {},
   "outputs": [],
   "source": [
    "x"
   ]
  },
  {
   "cell_type": "code",
   "execution_count": 38,
   "metadata": {},
   "outputs": [
    {
     "data": {
      "text/plain": [
       "<_sre.SRE_Match object; span=(3, 4), match=' '>"
      ]
     },
     "execution_count": 38,
     "metadata": {},
     "output_type": "execute_result"
    }
   ],
   "source": [
    "# search() function searches the string for a match, and returns a Match object if there is a match.\n",
    "\n",
    "txt = \"The rain in Spain\"\n",
    "x = re.search(\"\\s\", txt)\n",
    "\n",
    "print(\"The first white-space character is located in position:\", x.start())\n",
    "\n",
    "txt = \"The rain in Spain\"\n",
    "x = re.search(\"Portugal\", txt)\n",
    "print(x)\n"
   ]
  },
  {
   "cell_type": "code",
   "execution_count": 22,
   "metadata": {},
   "outputs": [
    {
     "name": "stdout",
     "output_type": "stream",
     "text": [
      "['The', 'rain', 'in', 'Spain']\n",
      "['The', 'rain in Spain']\n",
      "['The', 'rain', 'in Spain']\n"
     ]
    }
   ],
   "source": [
    "# split() function returns a list where the string has been split at each match\n",
    "\n",
    "import re\n",
    "\n",
    "txt = \"The rain in Spain\"\n",
    "x = re.split(\"\\s\", txt)\n",
    "print(x)\n",
    "\n",
    "txt = \"The rain in Spain\"\n",
    "x = re.split(\"\\s\", txt, 1)\n",
    "print(x)\n",
    "x = re.split(\"\\s\", txt, 2)\n",
    "print(x)"
   ]
  },
  {
   "cell_type": "code",
   "execution_count": 25,
   "metadata": {},
   "outputs": [
    {
     "name": "stdout",
     "output_type": "stream",
     "text": [
      "The9rain9in9Spain\n",
      "The9rain9in Spain\n"
     ]
    }
   ],
   "source": [
    "# sub() function replaces the matches with the text of your choice:\n",
    "\n",
    "import re\n",
    "\n",
    "txt = \"The rain in Spain\"\n",
    "x = re.sub(\"\\s\", \"9\", txt)\n",
    "print(x)\n",
    "\n",
    "txt = \"The rain in Spain\"\n",
    "x = re.sub(\"\\s\", \"9\", txt, 2)\n",
    "print(x)"
   ]
  },
  {
   "cell_type": "code",
   "execution_count": 26,
   "metadata": {},
   "outputs": [
    {
     "name": "stdout",
     "output_type": "stream",
     "text": [
      "<_sre.SRE_Match object; span=(5, 7), match='ai'>\n"
     ]
    }
   ],
   "source": [
    "# A Match Object is an object containing information about the search and the result.\n",
    "\n",
    "import re\n",
    "\n",
    "txt = \"The rain in Spain\"\n",
    "x = re.search(\"ai\", txt)\n",
    "print(x) #this will print an object\n",
    "x"
   ]
  },
  {
   "cell_type": "code",
   "execution_count": null,
   "metadata": {},
   "outputs": [],
   "source": [
    "'''\n",
    "The Match object has properties and methods used to retrieve information about the search, and the result:\n",
    "\n",
    ".span() returns a tuple containing the start-, and end positions of the match.\n",
    ".string returns the string passed into the function\n",
    ".group() returns the part of the string where there was a match\n",
    "'''"
   ]
  },
  {
   "cell_type": "code",
   "execution_count": 39,
   "metadata": {},
   "outputs": [
    {
     "name": "stdout",
     "output_type": "stream",
     "text": [
      "(12, 17)\n"
     ]
    }
   ],
   "source": [
    "import re\n",
    "\n",
    "txt = \"The rain in Spain\"\n",
    "x = re.search(r\"\\bS\\w+\", txt)\n",
    "print(x.span())"
   ]
  },
  {
   "cell_type": "code",
   "execution_count": 40,
   "metadata": {},
   "outputs": [
    {
     "name": "stdout",
     "output_type": "stream",
     "text": [
      "The rain in Spain\n"
     ]
    }
   ],
   "source": [
    "import re\n",
    "\n",
    "txt = \"The rain in Spain\"\n",
    "x = re.search(r\"\\bS\\w+\", txt)\n",
    "print(x.string)"
   ]
  },
  {
   "cell_type": "code",
   "execution_count": 41,
   "metadata": {},
   "outputs": [
    {
     "name": "stdout",
     "output_type": "stream",
     "text": [
      "Spain\n"
     ]
    }
   ],
   "source": [
    "import re\n",
    "\n",
    "txt = \"The rain in Spain\"\n",
    "x = re.search(r\"\\bS\\w+\", txt)\n",
    "print(x.group())"
   ]
  },
  {
   "cell_type": "code",
   "execution_count": null,
   "metadata": {},
   "outputs": [],
   "source": [
    "https://docs.python.org/2/library/re.html"
   ]
  },
  {
   "cell_type": "code",
   "execution_count": null,
   "metadata": {},
   "outputs": [],
   "source": []
  }
 ],
 "metadata": {
  "kernelspec": {
   "display_name": "Python 3",
   "language": "python",
   "name": "python3"
  },
  "language_info": {
   "codemirror_mode": {
    "name": "ipython",
    "version": 3
   },
   "file_extension": ".py",
   "mimetype": "text/x-python",
   "name": "python",
   "nbconvert_exporter": "python",
   "pygments_lexer": "ipython3",
   "version": "3.6.6"
  }
 },
 "nbformat": 4,
 "nbformat_minor": 4
}
