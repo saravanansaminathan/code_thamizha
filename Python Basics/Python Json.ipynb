{
 "cells": [
  {
   "cell_type": "code",
   "execution_count": null,
   "metadata": {},
   "outputs": [],
   "source": [
    "'''\n",
    "JSON is a lightweight format for storing and transporting data\n",
    "The JSON format is often used for serializing and transmitting structured data over a network connection\n",
    "Reason: When exchanging data between a browser and a server, the data can only be text.\n",
    "        language independent \n",
    "'''"
   ]
  },
  {
   "cell_type": "code",
   "execution_count": 56,
   "metadata": {},
   "outputs": [
    {
     "name": "stdout",
     "output_type": "stream",
     "text": [
      "{ \"name\":\"saravanan\", \"age\":23, \"city\":\"chennai\"} <class 'str'>\n",
      "23 <class 'dict'>\n"
     ]
    }
   ],
   "source": [
    "# Json to python\n",
    "import json\n",
    "\n",
    "# some JSON:\n",
    "x =  '{ \"name\":\"saravanan\", \"age\":23, \"city\":\"chennai\"}'\n",
    "\n",
    "print(x,type(x))\n",
    "# parse x:\n",
    "y = json.loads(x)\n",
    "\n",
    "# the result is a Python dictionary:\n",
    "print(y[\"age\"],type(y))"
   ]
  },
  {
   "cell_type": "code",
   "execution_count": 57,
   "metadata": {},
   "outputs": [
    {
     "name": "stdout",
     "output_type": "stream",
     "text": [
      "{'name': 'saravanan', 'age': 23, 'city': 'chennai'} <class 'dict'>\n",
      "{\"name\": \"saravanan\", \"age\": 23, \"city\": \"chennai\"} <class 'str'>\n"
     ]
    }
   ],
   "source": [
    "# Dict to json\n",
    "import json\n",
    "\n",
    "# a Python object (dict):\n",
    "x = {\n",
    "  \"name\": \"saravanan\",\n",
    "  \"age\": 23,\n",
    "  \"city\": \"chennai\"\n",
    "}\n",
    "print(x,type(x))\n",
    "# convert into JSON:\n",
    "y = json.dumps(x)\n",
    "\n",
    "# the result is a JSON string:\n",
    "print(y,type(y))"
   ]
  },
  {
   "cell_type": "code",
   "execution_count": null,
   "metadata": {},
   "outputs": [],
   "source": [
    "'{\"name\": \"saravanan\", \"age\": 23, \"city\": \"chennai\"}'"
   ]
  },
  {
   "cell_type": "code",
   "execution_count": 58,
   "metadata": {},
   "outputs": [
    {
     "name": "stdout",
     "output_type": "stream",
     "text": [
      "{\"name\": \"saravanan\", \"age\": 23}\n",
      "[\"apple\", \"bananas\"]\n",
      "[\"apple\", \"bananas\"]\n",
      "\"hello\"\n",
      "42\n",
      "31.76\n",
      "true\n",
      "false\n",
      "null\n"
     ]
    }
   ],
   "source": [
    "#  Python objects into JSON strings\n",
    "\n",
    "import json\n",
    "\n",
    "\n",
    "print(json.dumps({\"name\": \"saravanan\", \"age\": 23}))\n",
    "print(json.dumps([\"apple\", \"bananas\"]))\n",
    "print(json.dumps((\"apple\", \"bananas\")))\n",
    "print(json.dumps(\"hello\"))\n",
    "print(json.dumps(42))\n",
    "print(json.dumps(31.76))\n",
    "print(json.dumps(True))\n",
    "print(json.dumps(False))\n",
    "print(json.dumps(None))"
   ]
  },
  {
   "cell_type": "code",
   "execution_count": 59,
   "metadata": {},
   "outputs": [
    {
     "name": "stdout",
     "output_type": "stream",
     "text": [
      "{\"name\": \"saravanan\", \"age\": 23, \"married\": true, \"divorced\": false, \"friend\": [\"sam\", \"venky\"], \"pets\": null, \"cars\": [{\"model\": \"BMW 230\", \"mpg\": 27.5}, {\"model\": \"Ford Edge\", \"mpg\": 24.1}]}\n"
     ]
    }
   ],
   "source": [
    "import json\n",
    "\n",
    "x = {\n",
    "  \"name\": \"saravanan\",\n",
    "  \"age\": 23,\n",
    "  \"married\": True,\n",
    "  \"divorced\": False,\n",
    "  \"friend\": (\"sam\",\"venky\"),\n",
    "  \"pets\": None,\n",
    "  \"cars\": [\n",
    "    {\"model\": \"BMW 230\", \"mpg\": 27.5},\n",
    "    {\"model\": \"Ford Edge\", \"mpg\": 24.1}\n",
    "  ]\n",
    "}\n",
    "\n",
    "print(json.dumps(x))"
   ]
  },
  {
   "cell_type": "code",
   "execution_count": 60,
   "metadata": {},
   "outputs": [
    {
     "name": "stdout",
     "output_type": "stream",
     "text": [
      "{\n",
      "    \"name\": \"saravanan\",\n",
      "    \"age\": 23,\n",
      "    \"married\": true,\n",
      "    \"divorced\": false,\n",
      "    \"friend\": [\n",
      "        \"sam\",\n",
      "        \"venky\"\n",
      "    ],\n",
      "    \"pets\": null,\n",
      "    \"cars\": [\n",
      "        {\n",
      "            \"model\": \"BMW 230\",\n",
      "            \"mpg\": 27.5\n",
      "        },\n",
      "        {\n",
      "            \"model\": \"Ford Edge\",\n",
      "            \"mpg\": 24.1\n",
      "        }\n",
      "    ]\n",
      "}\n"
     ]
    }
   ],
   "source": [
    "# pretty encoding if indent param is present\n",
    "print(json.dumps(x, indent=4))"
   ]
  },
  {
   "cell_type": "code",
   "execution_count": 61,
   "metadata": {},
   "outputs": [
    {
     "name": "stdout",
     "output_type": "stream",
     "text": [
      "{\n",
      "    \"name\" == \"saravanan\". \n",
      "    \"age\" == 23. \n",
      "    \"married\" == true. \n",
      "    \"divorced\" == false. \n",
      "    \"friend\" == [\n",
      "        \"sam\". \n",
      "        \"venky\"\n",
      "    ]. \n",
      "    \"pets\" == null. \n",
      "    \"cars\" == [\n",
      "        {\n",
      "            \"model\" == \"BMW 230\". \n",
      "            \"mpg\" == 27.5\n",
      "        }. \n",
      "        {\n",
      "            \"model\" == \"Ford Edge\". \n",
      "            \"mpg\" == 24.1\n",
      "        }\n",
      "    ]\n",
      "}\n"
     ]
    }
   ],
   "source": [
    "# default ('. ', ': ') \n",
    "print(json.dumps(x, indent=4, separators=(\". \", \" == \")))\n"
   ]
  },
  {
   "cell_type": "code",
   "execution_count": 62,
   "metadata": {},
   "outputs": [
    {
     "name": "stdout",
     "output_type": "stream",
     "text": [
      "{\n",
      " \"age\": 23,\n",
      " \"cars\": [\n",
      "  {\n",
      "   \"model\": \"BMW 230\",\n",
      "   \"mpg\": 27.5\n",
      "  },\n",
      "  {\n",
      "   \"model\": \"Ford Edge\",\n",
      "   \"mpg\": 24.1\n",
      "  }\n",
      " ],\n",
      " \"divorced\": false,\n",
      " \"friend\": [\n",
      "  \"sam\",\n",
      "  \"venky\"\n",
      " ],\n",
      " \"married\": true,\n",
      " \"name\": \"saravanan\",\n",
      " \"pets\": null\n",
      "}\n"
     ]
    }
   ],
   "source": [
    "print(json.dumps(x, indent=1, sort_keys=True))"
   ]
  },
  {
   "cell_type": "code",
   "execution_count": 64,
   "metadata": {},
   "outputs": [
    {
     "name": "stdout",
     "output_type": "stream",
     "text": [
      "<class 'str'>\n"
     ]
    },
    {
     "data": {
      "text/plain": [
       "'[1,2,3,{\"4\":5,\"6\":7}]'"
      ]
     },
     "execution_count": 64,
     "metadata": {},
     "output_type": "execute_result"
    }
   ],
   "source": [
    "# compact encoding\n",
    "a = json.dumps([1, 2, 3, {'4': 5, '6': 7}], separators=(',', ':'))\n",
    "print(type(a))\n",
    "a"
   ]
  },
  {
   "cell_type": "code",
   "execution_count": 65,
   "metadata": {},
   "outputs": [
    {
     "name": "stdout",
     "output_type": "stream",
     "text": [
      "\"\\\"foo\\bar\"\n",
      "\"\\u1234\"\n",
      "\"\\\\\"\n",
      "{\"a\": 0, \"b\": 0, \"c\": 0}\n"
     ]
    },
    {
     "data": {
      "text/plain": [
       "'[\"streaming API\"]'"
      ]
     },
     "execution_count": 65,
     "metadata": {},
     "output_type": "execute_result"
    }
   ],
   "source": [
    "json.dumps(['foo', {'bar': ('baz', None, 1.0, 2)}])\n",
    "\n",
    "print(json.dumps(\"\\\"foo\\bar\"))\n",
    "\n",
    "print(json.dumps('\\u1234'))\n",
    "\n",
    "print(json.dumps('\\\\'))\n",
    "\n",
    "print(json.dumps({\"c\": 0, \"b\": 0, \"a\": 0}, sort_keys=True))\n",
    "\n",
    "from io import StringIO\n",
    "io = StringIO()\n",
    "json.dump(['streaming API'], io)\n",
    "io.getvalue()\n"
   ]
  },
  {
   "cell_type": "code",
   "execution_count": null,
   "metadata": {},
   "outputs": [],
   "source": [
    "\n"
   ]
  },
  {
   "cell_type": "code",
   "execution_count": null,
   "metadata": {},
   "outputs": [],
   "source": []
  },
  {
   "cell_type": "code",
   "execution_count": 67,
   "metadata": {},
   "outputs": [
    {
     "name": "stdout",
     "output_type": "stream",
     "text": [
      "<class 'list'>\n",
      "['foo', {'bar': ['baz', None, 1.0, 2]}]\n",
      "<class 'str'>\n",
      "\"foo\bar\n"
     ]
    },
    {
     "data": {
      "text/plain": [
       "['streaming API']"
      ]
     },
     "execution_count": 67,
     "metadata": {},
     "output_type": "execute_result"
    }
   ],
   "source": [
    "#Decoder\n",
    "\n",
    "import json\n",
    "a = json.loads('[\"foo\", {\"bar\":[\"baz\", null, 1.0, 2]}]')\n",
    "print(type(a))\n",
    "print(a)\n",
    "\n",
    "a = json.loads('\"\\\\\"foo\\\\bar\"')\n",
    "print(type(a))\n",
    "print(a)\n",
    "\n",
    "from io import StringIO\n",
    "io = StringIO('[\"streaming API\"]') # read as file\n",
    "json.load(io)\n"
   ]
  },
  {
   "cell_type": "code",
   "execution_count": null,
   "metadata": {},
   "outputs": [],
   "source": []
  },
  {
   "cell_type": "code",
   "execution_count": 68,
   "metadata": {},
   "outputs": [
    {
     "data": {
      "text/plain": [
       "Decimal('1.1')"
      ]
     },
     "execution_count": 68,
     "metadata": {},
     "output_type": "execute_result"
    }
   ],
   "source": [
    "\n",
    "import decimal\n",
    "\n",
    "# parse_float - if specified, will be called with the string of every JSON float to be decoded\n",
    "# parse_int, parse_constant\n",
    "\n",
    "json.loads('1.1', parse_float=decimal.Decimal)\n"
   ]
  },
  {
   "cell_type": "code",
   "execution_count": 69,
   "metadata": {},
   "outputs": [
    {
     "data": {
      "text/plain": [
       "(decimal.Decimal, float)"
      ]
     },
     "execution_count": 69,
     "metadata": {},
     "output_type": "execute_result"
    }
   ],
   "source": [
    "type(json.loads('1.1', parse_float=decimal.Decimal)),type(json.loads('1.1'))"
   ]
  },
  {
   "cell_type": "code",
   "execution_count": null,
   "metadata": {},
   "outputs": [],
   "source": [
    "'''\n",
    "Note: loads(dumps(x)) != x \n",
    "'''"
   ]
  },
  {
   "cell_type": "code",
   "execution_count": null,
   "metadata": {},
   "outputs": [],
   "source": [
    "'''\n",
    "dump\n",
    "dumps\n",
    "load\n",
    "loads\n",
    "s - stands for string\n",
    "load is for a file, loads for a string\n",
    "dump is used to write json in a file, dumps to change json to string\n",
    "'''"
   ]
  }
 ],
 "metadata": {
  "kernelspec": {
   "display_name": "Python 3",
   "language": "python",
   "name": "python3"
  },
  "language_info": {
   "codemirror_mode": {
    "name": "ipython",
    "version": 3
   },
   "file_extension": ".py",
   "mimetype": "text/x-python",
   "name": "python",
   "nbconvert_exporter": "python",
   "pygments_lexer": "ipython3",
   "version": "3.6.6"
  }
 },
 "nbformat": 4,
 "nbformat_minor": 4
}
