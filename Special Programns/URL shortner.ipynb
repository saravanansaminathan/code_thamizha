{
 "cells": [
  {
   "cell_type": "code",
   "execution_count": 1,
   "metadata": {},
   "outputs": [
    {
     "name": "stdout",
     "output_type": "stream",
     "text": [
      "<Response [200]>\n",
      "https://tinyurl.com/codevaathi\n"
     ]
    }
   ],
   "source": [
    "import requests\n",
    "\n",
    "api_url = 'https://tinyurl.com/api-create.php' #tiny api\n",
    "\n",
    "# params\n",
    "alternate_name = 'codevaathi'\n",
    "url_to_short = 'https://www.youtube.com/channel/UCPxQfrFsHRLUGLobESp9uDw' #youtube channel\n",
    "\n",
    "def url_shortner(url_to_short,alternate_name):\n",
    "    #Param\n",
    "    param = {'url': url_to_short, 'alias': alternate_name}\n",
    "    # request call\n",
    "    response = requests.get(api_url, params=param)\n",
    "    print(response)\n",
    "    return response.text\n",
    "\n",
    "output = url_shortner(url_to_short,alternate_name)\n",
    "print(output)\n"
   ]
  },
  {
   "cell_type": "code",
   "execution_count": 2,
   "metadata": {},
   "outputs": [
    {
     "name": "stdout",
     "output_type": "stream",
     "text": [
      "<Response [422]>\n",
      "Error\n",
      "Name already taken. Pls provide alternate name or press enter key\n",
      "fbcodevaathi\n",
      "<Response [200]>\n"
     ]
    }
   ],
   "source": [
    "import requests\n",
    "\n",
    "api_url = 'https://tinyurl.com/api-create.php'\n",
    "\n",
    "# params\n",
    "alternate_name = 'codevaathi'\n",
    "url_to_short = 'https://www.facebook.com/codevaathi/'\n",
    "\n",
    "def url_shortner(url_to_short,alternate_name):\n",
    "    #Param\n",
    "    param = {'url': url_to_short, 'alias': alternate_name}\n",
    "    # request call\n",
    "    response = requests.get(api_url, params=param)\n",
    "    print(response)\n",
    "    return response.text\n",
    "\n",
    "output = url_shortner(url_to_short,alternate_name)\n",
    "print(output)\n",
    "while output == 'Error':\n",
    "    print('Name already taken. Pls provide alternate name or press enter key')\n",
    "    alternate_name = input()\n",
    "    output = url_shortner(url_to_short,alternate_name)"
   ]
  },
  {
   "cell_type": "code",
   "execution_count": null,
   "metadata": {},
   "outputs": [],
   "source": [
    "url_shortner('https://www.facebook.com/codevaathi/')"
   ]
  },
  {
   "cell_type": "code",
   "execution_count": null,
   "metadata": {},
   "outputs": [],
   "source": []
  },
  {
   "cell_type": "code",
   "execution_count": null,
   "metadata": {},
   "outputs": [],
   "source": []
  },
  {
   "cell_type": "code",
   "execution_count": null,
   "metadata": {},
   "outputs": [],
   "source": [
    "'''\n",
    "https://pypi.org/project/shorten-url/\n",
    "https://pypi.org/project/bitlyshortener/\n",
    "https://tinyurl.com/api-create.php?url=https://www.zoho.com\n",
    "'''"
   ]
  },
  {
   "cell_type": "code",
   "execution_count": null,
   "metadata": {},
   "outputs": [],
   "source": []
  },
  {
   "cell_type": "code",
   "execution_count": null,
   "metadata": {},
   "outputs": [],
   "source": []
  },
  {
   "cell_type": "code",
   "execution_count": null,
   "metadata": {},
   "outputs": [],
   "source": []
  },
  {
   "cell_type": "code",
   "execution_count": null,
   "metadata": {},
   "outputs": [],
   "source": []
  },
  {
   "cell_type": "code",
   "execution_count": null,
   "metadata": {},
   "outputs": [],
   "source": []
  },
  {
   "cell_type": "code",
   "execution_count": null,
   "metadata": {},
   "outputs": [],
   "source": []
  },
  {
   "cell_type": "code",
   "execution_count": null,
   "metadata": {},
   "outputs": [],
   "source": []
  },
  {
   "cell_type": "code",
   "execution_count": null,
   "metadata": {},
   "outputs": [],
   "source": []
  },
  {
   "cell_type": "code",
   "execution_count": null,
   "metadata": {},
   "outputs": [],
   "source": []
  },
  {
   "cell_type": "code",
   "execution_count": null,
   "metadata": {},
   "outputs": [],
   "source": []
  },
  {
   "cell_type": "code",
   "execution_count": null,
   "metadata": {},
   "outputs": [],
   "source": []
  },
  {
   "cell_type": "code",
   "execution_count": null,
   "metadata": {},
   "outputs": [],
   "source": []
  },
  {
   "cell_type": "code",
   "execution_count": null,
   "metadata": {},
   "outputs": [],
   "source": []
  },
  {
   "cell_type": "code",
   "execution_count": null,
   "metadata": {},
   "outputs": [],
   "source": []
  },
  {
   "cell_type": "code",
   "execution_count": null,
   "metadata": {},
   "outputs": [],
   "source": []
  },
  {
   "cell_type": "code",
   "execution_count": null,
   "metadata": {},
   "outputs": [],
   "source": []
  },
  {
   "cell_type": "code",
   "execution_count": null,
   "metadata": {},
   "outputs": [],
   "source": []
  },
  {
   "cell_type": "code",
   "execution_count": null,
   "metadata": {},
   "outputs": [],
   "source": []
  }
 ],
 "metadata": {
  "kernelspec": {
   "display_name": "Python 3",
   "language": "python",
   "name": "python3"
  },
  "language_info": {
   "codemirror_mode": {
    "name": "ipython",
    "version": 3
   },
   "file_extension": ".py",
   "mimetype": "text/x-python",
   "name": "python",
   "nbconvert_exporter": "python",
   "pygments_lexer": "ipython3",
   "version": "3.6.6"
  }
 },
 "nbformat": 4,
 "nbformat_minor": 4
}
